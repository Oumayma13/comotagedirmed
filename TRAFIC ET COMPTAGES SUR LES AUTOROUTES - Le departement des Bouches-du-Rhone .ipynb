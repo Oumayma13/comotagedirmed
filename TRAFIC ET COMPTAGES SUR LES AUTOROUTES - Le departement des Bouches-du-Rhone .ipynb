{
 "cells": [
  {
   "cell_type": "markdown",
   "metadata": {},
   "source": [
    " \n",
    "# Introduction\n",
    "   Afin de connaître le trafic qui s’écoule sur le réseau routier de la DIR Med, tout un système de recueil de données est mis en œuvre. Ce système de recueil de données de trafic se compose de stations permanentes (boucles de comptages) et de capteurs installés de façon permanente. Ils permettent notamment de connaître le débit (le nombre de véhicules par minutes) qui passe quotidiennement sur le réseau et la vitesse.\n",
    "   Dans l’ensemble de données de trafic sur les autoroutes de l’aire métropole Aix-Marseille-Provence des mesures réalisées par tranche d’une heure sur les stations de comptages ont été utilisées sur une période de 9 mois : de Janvier a Septembre 2016. Les données de comptages se composent des débits horaire (Q), taux d’occupation (To) et vitesses des véhicules passant au niveau de la station de comptage dans un sens donné, puis date et jours sur l’ensemble des jours de l’année 2016. Les données sont représentées sous forme plusieurs tables, chaque table contient les données d'un jour.\n",
    "   \n",
    "Voici le lien vers les données utilisées de Trafic/Comptage : \n",
    "https://github.com/Oumayma13/Comptage\n",
    "\n",
    "ou bien\n",
    "\n",
    "https://drive.google.com/drive/folders/1YiAVt6uI4ikUgwEuqTPmnjnSxWHvuOq9?usp=sharing\n",
    "\n",
    "\n",
    "\n",
    "# Les données de comptages :\n",
    "## Le recueil de données :\n",
    "\n",
    "La présente étude concerne un réseau géré par la DIRMED (Direction Interdépartementale Des Routes Méditerranée) et les données concernées ont été recueillies, par le système SIREDO (Système Informatisé de Recueil de Données), dans 6 autoroutes : \n",
    "\n",
    "**A51** : relie Marseille à Grenoble 187 km.\n",
    "\n",
    "**A50** : relie Marseille à Toulon - 64 km.\n",
    "\n",
    "**A7** : relie Marseille a Lyon - 311 km.\n",
    "\n",
    "**A55** :  relie Marseille à Martigues - 39 km.\n",
    "\n",
    "**A501** : prolongement de l'A50 vers l'A52.\n",
    "\n",
    "**A502** : relie l’A50 à la route départementale 8n vers Toulon - 1 500 mètres.\n",
    "\n",
    "Et 2 routes nationales:\n",
    "\n",
    "**N113** : relie Marseille à Bordeaux - 660 km.\n",
    "\n",
    "**N568** : relie la N113 à A55 - 35 km.\n",
    "\n",
    "## Formats de données  :\n",
    "L’identité de la station est représentée par un code SIREDO, par lequel nous pouvons connaitre la position d’une station SIREDO. \n",
    "\n",
    "(Lien vers la liste des stations avec les localisations:\n",
    "https://drive.google.com/drive/folders/1YiAVt6uI4ikUgwEuqTPmnjnSxWHvuOq9 )\n",
    "\n",
    "Une valeur de comptage est une valeur numérique, et les fichiers de données de comptage routier comporte des informations principales présentes dans une station :\n",
    "\n",
    "-données de comptages : débits, vitesses, taux d’occupation.\n",
    "\n",
    "-Le type de données compté : débit tous véhicules, poids lourds…(classe de véhicule).\n",
    "\n",
    "-Un identifiant permettant la localisation de la donnée (Code de station, Pr : Point de Repère).\n",
    "\n",
    "-La date et l’heure du comptage.\n",
    " \n",
    "-Le nombre d'accidents horaire.\n",
    "\n",
    "-La qualité de la mesure (OK = '  ' et Douteux = '?').\n",
    "\n",
    "Les   stations   SIREDO   permettent   de   recueillir   des   données par classe de véhicules, et par conséquents, les données débit Q et vitesses classifiées sont comptés par 6 types de véhicules, sont indiqués dans les champs des tables par (Qi avec i= 1 à 6) et (Vi avec i= 1 à 6).\n",
    "\n",
    "<img src=\"tostation-ConvertImage.png\">\n",
    "\n",
    "#  Organisation de données:\n",
    "### Création de la table de données de l’année 2016 :\n",
    "Nous souhaitons concaténer les tables jour à fin d’avoir une table ‘dataframe’ contenant les données de toutes les autoroutes de l’aire métropolitaine Aix-Marseille-Provence. Elles sont représentées sous forme plusieurs tables, chaque table contient les données d’un jour. Nous souhaitons concaténer les tables à fin d’avoir une table ‘dataframe’ contenant les données de toutes les autoroutes de l’aire métropolitaine Aix-Marseille-Provence.\n",
    "Création de la table principale de l’année 2016 :\n",
    "\n",
    "\n",
    "Dans le but de créer la table ‘table_2016’ nous allons tout d’abords regrouper les tables de jours nommées ’0i.dat’ dans une table de mois, et après on regroupe les tables mois dans table_2016. \n",
    "En exécutant le code suivant, on crée la table des données du mois de janvier, sans oublier d’indiquer le chemin des données sur la machine après les avoir télécharger. "
   ]
  },
  {
   "cell_type": "code",
   "execution_count": null,
   "metadata": {},
   "outputs": [],
   "source": [
    "#Verifier le chemin et importer les packages.\n",
    "pwd\n",
    "#Chemin\n",
    "cd &path"
   ]
  },
  {
   "cell_type": "code",
   "execution_count": 1,
   "metadata": {},
   "outputs": [],
   "source": [
    "#Charger les biblio\n",
    "import numpy as np\n",
    "import pandas as pd\n",
    "from pandas import read_csv\n",
    "import matplotlib.pyplot as plt\n",
    "import seaborn as sns\n",
    "import numpy as np\n",
    "import string\n",
    "from subprocess import check_output\n",
    "import seaborn as sns\n",
    "%matplotlib inline"
   ]
  },
  {
   "cell_type": "code",
   "execution_count": null,
   "metadata": {},
   "outputs": [],
   "source": [
    "#Creation de la table du mois janvier 2016.\n",
    "table_01_16 = pd.concat([pd.read_csv('01.dat', header=None, sep=';', engine='python'),\n",
    "                pd.read_csv('02.dat', header=None, sep=';', engine='python'),\n",
    "                pd.read_csv('03.dat', header=None, sep=';', engine='python'),\n",
    "                pd.read_csv('04.dat', header=None, sep=';', engine='python'),\n",
    "                pd.read_csv('05.dat', header=None, sep=';', engine='python'),\n",
    "                pd.read_csv('06.dat', header=None, sep=';', engine='python'),\n",
    "                pd.read_csv('07.dat', header=None, sep=';', engine='python'),\n",
    "                pd.read_csv('08.dat', header=None, sep=';', engine='python'),\n",
    "                pd.read_csv('09.dat', header=None, sep=';', engine='python'),\n",
    "                pd.read_csv('10.dat', header=None, sep=';', engine='python'),\n",
    "                pd.read_csv('11.dat', header=None, sep=';', engine='python'),\n",
    "                pd.read_csv('12.dat', header=None, sep=';', engine='python'),\n",
    "                pd.read_csv('13.dat', header=None, sep=';', engine='python'),\n",
    "                pd.read_csv('14.dat', header=None, sep=';', engine='python'),\n",
    "                pd.read_csv('15.dat', header=None, sep=';', engine='python'),\n",
    "                pd.read_csv('16.dat', header=None, sep=';', engine='python'),\n",
    "                pd.read_csv('17.dat', header=None, sep=';', engine='python'),\n",
    "                pd.read_csv('18.dat', header=None, sep=';', engine='python'),\n",
    "                pd.read_csv('19.dat', header=None, sep=';', engine='python'),\n",
    "                pd.read_csv('20.dat', header=None, sep=';', engine='python'),\n",
    "                pd.read_csv('21.dat', header=None, sep=';', engine='python'),\n",
    "                pd.read_csv('22.dat', header=None, sep=';', engine='python'),\n",
    "                pd.read_csv('23.dat', header=None, sep=';', engine='python'),\n",
    "                pd.read_csv('24.dat', header=None, sep=';', engine='python'),\n",
    "                pd.read_csv('25.dat', header=None, sep=';', engine='python'),\n",
    "                pd.read_csv('26.dat', header=None, sep=';', engine='python'),\n",
    "                pd.read_csv('27.dat', header=None, sep=';', engine='python'),\n",
    "                pd.read_csv('28.dat', header=None, sep=';', engine='python'),\n",
    "                pd.read_csv('29.dat', header=None, sep=';', engine='python'),\n",
    "                pd.read_csv('30.dat', header=None, sep=';', engine='python'),\n",
    "                pd.read_csv('31.dat', header=None, sep=';', engine='python')]) \n",
    "#transformer la table en dataframe\n",
    "table_01_2016 = pd.DataFrame(table_01_16)\n",
    "#Exporter la table\n",
    "table_01_2016.to_csv('table_01_2016.csv', index = False, encoding = 'utf-8')"
   ]
  },
  {
   "cell_type": "markdown",
   "metadata": {},
   "source": [
    "A fin de créer la table ‘table_2016’ nous allons tout d’abords regrouper les tables de jours nommées ’0i.dat’ dans une table de mois, et après on regroupe les tables mois dans table_2016, en effectuant le code suivant :\n",
    "On refait le code ci-dessus pour toutes les autres tables, jusqu'au mois d'octobre, vu que les tables du mois de novembre et décembre.\n",
    "Voici le lien vers les tables de données de janvier jusqu'à septembre 2016 : \n",
    "https://drive.google.com/drive/folders/1Z3MFMvPBtjWzgTjDra2VNLwL7u262uYx\n",
    "\n",
    "En appliquant le code suivant, on obtient la table ‘table_2016’ :"
   ]
  },
  {
   "cell_type": "code",
   "execution_count": null,
   "metadata": {},
   "outputs": [],
   "source": [
    "table_2016 = pd.concat([table_01_2016, table_02_2016, table_03_2016, table_04_2016, table_05_2016, table_06_2016,\n",
    "                       table_07_2016, table_08_2016, table_09_2016])"
   ]
  },
  {
   "cell_type": "markdown",
   "metadata": {},
   "source": [
    " ###### Remarque : \n",
    "Vous trouverez la table des données dans le même lien au-dessus.  \n",
    "\n",
    "Après avoir importer la table, nous pouvons renommer les colonnes facilement sur Excel et supprimer les colonnes vides comme on supprime aussi les vitesses et on garde que la vitesse de la 2eme classe de véhicules car elle contient le plus de valeurs. \n"
   ]
  },
  {
   "cell_type": "code",
   "execution_count": 2,
   "metadata": {},
   "outputs": [
    {
     "data": {
      "text/html": [
       "<div>\n",
       "<style scoped>\n",
       "    .dataframe tbody tr th:only-of-type {\n",
       "        vertical-align: middle;\n",
       "    }\n",
       "\n",
       "    .dataframe tbody tr th {\n",
       "        vertical-align: top;\n",
       "    }\n",
       "\n",
       "    .dataframe thead th {\n",
       "        text-align: right;\n",
       "    }\n",
       "</style>\n",
       "<table border=\"1\" class=\"dataframe\">\n",
       "  <thead>\n",
       "    <tr style=\"text-align: right;\">\n",
       "      <th></th>\n",
       "      <th>rgs</th>\n",
       "      <th>pr</th>\n",
       "      <th>m</th>\n",
       "      <th>js</th>\n",
       "      <th>jjmmaa</th>\n",
       "      <th>hhmm</th>\n",
       "      <th>Q1</th>\n",
       "      <th>Q2</th>\n",
       "      <th>Q3</th>\n",
       "      <th>Q4</th>\n",
       "      <th>Q5</th>\n",
       "      <th>Q6</th>\n",
       "      <th>Vitesse</th>\n",
       "      <th>To</th>\n",
       "      <th>Qualite</th>\n",
       "    </tr>\n",
       "  </thead>\n",
       "  <tbody>\n",
       "    <tr>\n",
       "      <th>0</th>\n",
       "      <td>101#M1a</td>\n",
       "      <td>0</td>\n",
       "      <td>430</td>\n",
       "      <td>Ve</td>\n",
       "      <td>01/01/2016</td>\n",
       "      <td>00:00</td>\n",
       "      <td>11</td>\n",
       "      <td>403</td>\n",
       "      <td>5</td>\n",
       "      <td>0.0</td>\n",
       "      <td>0.0</td>\n",
       "      <td>2.0</td>\n",
       "      <td>92.0</td>\n",
       "      <td>1.0</td>\n",
       "      <td>?</td>\n",
       "    </tr>\n",
       "    <tr>\n",
       "      <th>1</th>\n",
       "      <td>102#M1b</td>\n",
       "      <td>1</td>\n",
       "      <td>9</td>\n",
       "      <td>Ve</td>\n",
       "      <td>01/01/2016</td>\n",
       "      <td>00:00</td>\n",
       "      <td>51</td>\n",
       "      <td>778</td>\n",
       "      <td>4</td>\n",
       "      <td>0.0</td>\n",
       "      <td>0.0</td>\n",
       "      <td>2.0</td>\n",
       "      <td>92.0</td>\n",
       "      <td>3.0</td>\n",
       "      <td></td>\n",
       "    </tr>\n",
       "    <tr>\n",
       "      <th>2</th>\n",
       "      <td>103#M1c</td>\n",
       "      <td>1</td>\n",
       "      <td>508</td>\n",
       "      <td>Ve</td>\n",
       "      <td>01/01/2016</td>\n",
       "      <td>00:00</td>\n",
       "      <td>0</td>\n",
       "      <td>0</td>\n",
       "      <td>0</td>\n",
       "      <td>0.0</td>\n",
       "      <td>0.0</td>\n",
       "      <td>0.0</td>\n",
       "      <td>0.0</td>\n",
       "      <td>0.0</td>\n",
       "      <td></td>\n",
       "    </tr>\n",
       "    <tr>\n",
       "      <th>3</th>\n",
       "      <td>104#M1d</td>\n",
       "      <td>2</td>\n",
       "      <td>30</td>\n",
       "      <td>Ve</td>\n",
       "      <td>01/01/2016</td>\n",
       "      <td>00:00</td>\n",
       "      <td>27</td>\n",
       "      <td>759</td>\n",
       "      <td>3</td>\n",
       "      <td>0.0</td>\n",
       "      <td>0.0</td>\n",
       "      <td>3.0</td>\n",
       "      <td>92.0</td>\n",
       "      <td>3.0</td>\n",
       "      <td></td>\n",
       "    </tr>\n",
       "    <tr>\n",
       "      <th>4</th>\n",
       "      <td>105#M1e</td>\n",
       "      <td>2</td>\n",
       "      <td>462</td>\n",
       "      <td>Ve</td>\n",
       "      <td>01/01/2016</td>\n",
       "      <td>00:00</td>\n",
       "      <td>41</td>\n",
       "      <td>794</td>\n",
       "      <td>4</td>\n",
       "      <td>0.0</td>\n",
       "      <td>0.0</td>\n",
       "      <td>3.0</td>\n",
       "      <td>91.0</td>\n",
       "      <td>3.0</td>\n",
       "      <td></td>\n",
       "    </tr>\n",
       "  </tbody>\n",
       "</table>\n",
       "</div>"
      ],
      "text/plain": [
       "       rgs  pr    m  js      jjmmaa   hhmm  Q1   Q2  Q3   Q4   Q5   Q6  \\\n",
       "0  101#M1a   0  430  Ve  01/01/2016  00:00  11  403   5  0.0  0.0  2.0   \n",
       "1  102#M1b   1    9  Ve  01/01/2016  00:00  51  778   4  0.0  0.0  2.0   \n",
       "2  103#M1c   1  508  Ve  01/01/2016  00:00   0    0   0  0.0  0.0  0.0   \n",
       "3  104#M1d   2   30  Ve  01/01/2016  00:00  27  759   3  0.0  0.0  3.0   \n",
       "4  105#M1e   2  462  Ve  01/01/2016  00:00  41  794   4  0.0  0.0  3.0   \n",
       "\n",
       "   Vitesse   To Qualite  \n",
       "0     92.0  1.0       ?  \n",
       "1     92.0  3.0          \n",
       "2      0.0  0.0          \n",
       "3     92.0  3.0          \n",
       "4     91.0  3.0          "
      ]
     },
     "execution_count": 2,
     "metadata": {},
     "output_type": "execute_result"
    }
   ],
   "source": [
    "#Importation de la table\n",
    "#On précise le séparateur si les données sont sparées par ;\n",
    "table_2016 = pd.read_csv(\"table_2016.csv\", sep = ';')\n",
    "#Lire la table en dataframe\n",
    "table_2016 = pd.DataFrame(table_2016)\n",
    "table_2016.head()"
   ]
  },
  {
   "cell_type": "markdown",
   "metadata": {},
   "source": [
    "####  Les données de trafic sur l'autoroute A7 :\n",
    "L'autoroute A7 de la limite avec le département du Vaucluse jusqu'à son terminus à Marseille et prolonge l'autoroute A6 au niveau du centre de Lyon jusqu'à Marseille sur 312 km.\n",
    " Dans le but d'étudier le trafic sur l’autoroute A7 nous allons créer une nouvelle table qui contient que les stations de l’autoroute A7, à partir de la table initiale. \n",
    " \n",
    "**Image**\n"
   ]
  },
  {
   "cell_type": "code",
   "execution_count": 3,
   "metadata": {},
   "outputs": [
    {
     "data": {
      "text/html": [
       "<div>\n",
       "<style scoped>\n",
       "    .dataframe tbody tr th:only-of-type {\n",
       "        vertical-align: middle;\n",
       "    }\n",
       "\n",
       "    .dataframe tbody tr th {\n",
       "        vertical-align: top;\n",
       "    }\n",
       "\n",
       "    .dataframe thead th {\n",
       "        text-align: right;\n",
       "    }\n",
       "</style>\n",
       "<table border=\"1\" class=\"dataframe\">\n",
       "  <thead>\n",
       "    <tr style=\"text-align: right;\">\n",
       "      <th></th>\n",
       "      <th>rgs</th>\n",
       "      <th>pr</th>\n",
       "      <th>m</th>\n",
       "      <th>js</th>\n",
       "      <th>jjmmaa</th>\n",
       "      <th>hhmm</th>\n",
       "      <th>Vitesse</th>\n",
       "      <th>To</th>\n",
       "      <th>Qualite</th>\n",
       "      <th>Q</th>\n",
       "      <th>A</th>\n",
       "      <th>Code</th>\n",
       "    </tr>\n",
       "  </thead>\n",
       "  <tbody>\n",
       "    <tr>\n",
       "      <th>0</th>\n",
       "      <td>101#M1a</td>\n",
       "      <td>0</td>\n",
       "      <td>430</td>\n",
       "      <td>Ve</td>\n",
       "      <td>01/01/2016</td>\n",
       "      <td>00:00</td>\n",
       "      <td>92.0</td>\n",
       "      <td>1.0</td>\n",
       "      <td>?</td>\n",
       "      <td>421.0</td>\n",
       "      <td>101</td>\n",
       "      <td>M1a</td>\n",
       "    </tr>\n",
       "    <tr>\n",
       "      <th>1</th>\n",
       "      <td>102#M1b</td>\n",
       "      <td>1</td>\n",
       "      <td>9</td>\n",
       "      <td>Ve</td>\n",
       "      <td>01/01/2016</td>\n",
       "      <td>00:00</td>\n",
       "      <td>92.0</td>\n",
       "      <td>3.0</td>\n",
       "      <td></td>\n",
       "      <td>835.0</td>\n",
       "      <td>102</td>\n",
       "      <td>M1b</td>\n",
       "    </tr>\n",
       "    <tr>\n",
       "      <th>2</th>\n",
       "      <td>103#M1c</td>\n",
       "      <td>1</td>\n",
       "      <td>508</td>\n",
       "      <td>Ve</td>\n",
       "      <td>01/01/2016</td>\n",
       "      <td>00:00</td>\n",
       "      <td>0.0</td>\n",
       "      <td>0.0</td>\n",
       "      <td></td>\n",
       "      <td>0.0</td>\n",
       "      <td>103</td>\n",
       "      <td>M1c</td>\n",
       "    </tr>\n",
       "    <tr>\n",
       "      <th>3</th>\n",
       "      <td>104#M1d</td>\n",
       "      <td>2</td>\n",
       "      <td>30</td>\n",
       "      <td>Ve</td>\n",
       "      <td>01/01/2016</td>\n",
       "      <td>00:00</td>\n",
       "      <td>92.0</td>\n",
       "      <td>3.0</td>\n",
       "      <td></td>\n",
       "      <td>792.0</td>\n",
       "      <td>104</td>\n",
       "      <td>M1d</td>\n",
       "    </tr>\n",
       "    <tr>\n",
       "      <th>4</th>\n",
       "      <td>105#M1e</td>\n",
       "      <td>2</td>\n",
       "      <td>462</td>\n",
       "      <td>Ve</td>\n",
       "      <td>01/01/2016</td>\n",
       "      <td>00:00</td>\n",
       "      <td>91.0</td>\n",
       "      <td>3.0</td>\n",
       "      <td></td>\n",
       "      <td>842.0</td>\n",
       "      <td>105</td>\n",
       "      <td>M1e</td>\n",
       "    </tr>\n",
       "  </tbody>\n",
       "</table>\n",
       "</div>"
      ],
      "text/plain": [
       "       rgs  pr    m  js      jjmmaa   hhmm  Vitesse   To Qualite      Q    A  \\\n",
       "0  101#M1a   0  430  Ve  01/01/2016  00:00     92.0  1.0       ?  421.0  101   \n",
       "1  102#M1b   1    9  Ve  01/01/2016  00:00     92.0  3.0          835.0  102   \n",
       "2  103#M1c   1  508  Ve  01/01/2016  00:00      0.0  0.0            0.0  103   \n",
       "3  104#M1d   2   30  Ve  01/01/2016  00:00     92.0  3.0          792.0  104   \n",
       "4  105#M1e   2  462  Ve  01/01/2016  00:00     91.0  3.0          842.0  105   \n",
       "\n",
       "  Code  \n",
       "0  M1a  \n",
       "1  M1b  \n",
       "2  M1c  \n",
       "3  M1d  \n",
       "4  M1e  "
      ]
     },
     "execution_count": 3,
     "metadata": {},
     "output_type": "execute_result"
    }
   ],
   "source": [
    "# J'ai copié la table pour la modifier et garder la table initiale\n",
    "dff = table_2016.copy()\n",
    "#La colonne débit Q contient le débit toutes les classes de véhicules\n",
    "dff['Q'] = table_2016['Q1'] + table_2016['Q2'] +table_2016['Q3'] +table_2016['Q4'] +table_2016['Q5'] +table_2016['Q6'] \n",
    "#Supprimer les colonnes Qi\n",
    "lst = ['Q1','Q2','Q3','Q4','Q5','Q6']\n",
    "dff = dff.drop(lst, 1,errors='ignore')\n",
    "rgs = dff.rgs\n",
    "#On separe la colonne rgs pour pouvoir lire le code de la station\n",
    "#Cela aide a utiliser la fonction startswith\n",
    "dff['A'], dff['Code'] = dff['rgs'].str.split('#', 1).str\n",
    "dff.head()"
   ]
  },
  {
   "cell_type": "markdown",
   "metadata": {},
   "source": [
    "Le code de toutes les stations dans l'autoroute A7 commence par 'M7' et 'M8', donc nous gardons dans la table 'df' ques les stations de A7."
   ]
  },
  {
   "cell_type": "code",
   "execution_count": 4,
   "metadata": {},
   "outputs": [
    {
     "data": {
      "text/html": [
       "<div>\n",
       "<style scoped>\n",
       "    .dataframe tbody tr th:only-of-type {\n",
       "        vertical-align: middle;\n",
       "    }\n",
       "\n",
       "    .dataframe tbody tr th {\n",
       "        vertical-align: top;\n",
       "    }\n",
       "\n",
       "    .dataframe thead th {\n",
       "        text-align: right;\n",
       "    }\n",
       "</style>\n",
       "<table border=\"1\" class=\"dataframe\">\n",
       "  <thead>\n",
       "    <tr style=\"text-align: right;\">\n",
       "      <th></th>\n",
       "      <th>rgs</th>\n",
       "      <th>pr</th>\n",
       "      <th>m</th>\n",
       "      <th>js</th>\n",
       "      <th>jjmmaa</th>\n",
       "      <th>hhmm</th>\n",
       "      <th>Vitesse</th>\n",
       "      <th>To</th>\n",
       "      <th>Qualite</th>\n",
       "      <th>Q</th>\n",
       "      <th>A</th>\n",
       "      <th>Code</th>\n",
       "    </tr>\n",
       "  </thead>\n",
       "  <tbody>\n",
       "    <tr>\n",
       "      <th>0</th>\n",
       "      <td>709#M7i</td>\n",
       "      <td>264</td>\n",
       "      <td>687</td>\n",
       "      <td>Ve</td>\n",
       "      <td>01/01/2016</td>\n",
       "      <td>00:00</td>\n",
       "      <td>98.0</td>\n",
       "      <td>2.0</td>\n",
       "      <td></td>\n",
       "      <td>487.0</td>\n",
       "      <td>709</td>\n",
       "      <td>M7i</td>\n",
       "    </tr>\n",
       "    <tr>\n",
       "      <th>1</th>\n",
       "      <td>710#M7j</td>\n",
       "      <td>265</td>\n",
       "      <td>320</td>\n",
       "      <td>Ve</td>\n",
       "      <td>01/01/2016</td>\n",
       "      <td>00:00</td>\n",
       "      <td>96.0</td>\n",
       "      <td>1.0</td>\n",
       "      <td></td>\n",
       "      <td>277.0</td>\n",
       "      <td>710</td>\n",
       "      <td>M7j</td>\n",
       "    </tr>\n",
       "    <tr>\n",
       "      <th>2</th>\n",
       "      <td>713#M7n</td>\n",
       "      <td>267</td>\n",
       "      <td>230</td>\n",
       "      <td>Ve</td>\n",
       "      <td>01/01/2016</td>\n",
       "      <td>00:00</td>\n",
       "      <td>0.0</td>\n",
       "      <td>0.0</td>\n",
       "      <td></td>\n",
       "      <td>0.0</td>\n",
       "      <td>713</td>\n",
       "      <td>M7n</td>\n",
       "    </tr>\n",
       "    <tr>\n",
       "      <th>3</th>\n",
       "      <td>715#M7o</td>\n",
       "      <td>267</td>\n",
       "      <td>861</td>\n",
       "      <td>Ve</td>\n",
       "      <td>01/01/2016</td>\n",
       "      <td>00:00</td>\n",
       "      <td>110.0</td>\n",
       "      <td>1.0</td>\n",
       "      <td></td>\n",
       "      <td>327.0</td>\n",
       "      <td>715</td>\n",
       "      <td>M7o</td>\n",
       "    </tr>\n",
       "    <tr>\n",
       "      <th>4</th>\n",
       "      <td>716#M7p</td>\n",
       "      <td>268</td>\n",
       "      <td>288</td>\n",
       "      <td>Ve</td>\n",
       "      <td>01/01/2016</td>\n",
       "      <td>00:00</td>\n",
       "      <td>0.0</td>\n",
       "      <td>0.0</td>\n",
       "      <td></td>\n",
       "      <td>0.0</td>\n",
       "      <td>716</td>\n",
       "      <td>M7p</td>\n",
       "    </tr>\n",
       "  </tbody>\n",
       "</table>\n",
       "</div>"
      ],
      "text/plain": [
       "       rgs   pr    m  js      jjmmaa   hhmm  Vitesse   To Qualite      Q    A  \\\n",
       "0  709#M7i  264  687  Ve  01/01/2016  00:00     98.0  2.0          487.0  709   \n",
       "1  710#M7j  265  320  Ve  01/01/2016  00:00     96.0  1.0          277.0  710   \n",
       "2  713#M7n  267  230  Ve  01/01/2016  00:00      0.0  0.0            0.0  713   \n",
       "3  715#M7o  267  861  Ve  01/01/2016  00:00    110.0  1.0          327.0  715   \n",
       "4  716#M7p  268  288  Ve  01/01/2016  00:00      0.0  0.0            0.0  716   \n",
       "\n",
       "  Code  \n",
       "0  M7i  \n",
       "1  M7j  \n",
       "2  M7n  \n",
       "3  M7o  \n",
       "4  M7p  "
      ]
     },
     "execution_count": 4,
     "metadata": {},
     "output_type": "execute_result"
    }
   ],
   "source": [
    "#Selectionner les codes qui commence par M7 et M8\n",
    "df1 = dff[dff['Code'].str.startswith('M8')]\n",
    "df2 = dff[dff['Code'].str.startswith('M7')]\n",
    "#Concatener les deux tables\n",
    "df3 = pd.concat([df2,df1],axis = 0,ignore_index = True)\n",
    "df3.head()"
   ]
  },
  {
   "cell_type": "markdown",
   "metadata": {},
   "source": [
    "Voici le lien vers la table A7 sous le nom de table_A7_2016 : https://drive.google.com/drive/folders/1Z3MFMvPBtjWzgTjDra2VNLwL7u262uYx\n",
    "\n",
    "Pour exporter la table il suffit d'exécuter la commande suivante :"
   ]
  },
  {
   "cell_type": "code",
   "execution_count": null,
   "metadata": {},
   "outputs": [],
   "source": [
    "#Exporter la table\n",
    "df.to_csv('table_A7_2016.csv', index = False, encoding = 'utf-8')"
   ]
  },
  {
   "cell_type": "markdown",
   "metadata": {},
   "source": [
    "# Qualification des données\n",
    "La qualité de ces données est évaluée suite à l’application de plusieurs tests élémentaires permettant de vérifier la cohérence des 3 données mesurées par chaque point de mesure.Il s’agit des tests suivants :\n",
    "- Données manquantes. \n",
    "- Sur-comptage/ Sur-vitesse.\n",
    "- Q/V/To nul.\n",
    "- Débit et Vitesse incompatibles.\n",
    "- Débit et TO incompatibles.\n",
    "\n",
    "Nous allons faire une qualification des données pour chaque point de mesures qui représente une station.\n",
    "\n",
    "## Les données manquantes  :\n",
    " Les données manquantes correspondent aux données non présentes ou « vides » ou bien les données marquées d’un indice de qualité mauvais, c’est à dire les données dont la mesure qualité indique ‘ ? ’. \n",
    "\n",
    "##### Remarque :\n",
    "Dès qu’une des 3 valeurs (Q, V ou TO) est manquante, la mesure complète est considérée manquante, donc on élimine toute la mesure.\n",
    "\n",
    "On cherche les valeurs manquantes dans l'ensemble des données d'A7. La commande suivante montre qu'elles ne contiennent aucune donnée manquante, et par conséquent il n y en a aucune dans les points de mesures concernés."
   ]
  },
  {
   "cell_type": "code",
   "execution_count": 30,
   "metadata": {},
   "outputs": [
    {
     "data": {
      "text/plain": [
       "rgs        False\n",
       "pr         False\n",
       "m          False\n",
       "js         False\n",
       "jjmmaa     False\n",
       "hhmm       False\n",
       "Vitesse    False\n",
       "To         False\n",
       "Qualite    False\n",
       "Q          False\n",
       "dtype: bool"
      ]
     },
     "execution_count": 30,
     "metadata": {},
     "output_type": "execute_result"
    }
   ],
   "source": [
    "df3.isnull().any()"
   ]
  },
  {
   "cell_type": "markdown",
   "metadata": {},
   "source": [
    "## Valeur aberrante et nulle :\n",
    "**Valeurs extrêmes :**\n",
    "\n",
    "Une valeur aberrante est une valeur qui s'écarte fortement des valeurs des autres observations, anormalement faible ou élevée. Les valeurs aberrantes peuvent avoir un effet disproportionné sur les résultats statistiques, tels que la moyenne, ce qui peut conduire à des interprétations trompeuses. Et c’est souvent à cause des erreurs de saisie de données ou bien un problème lié au procédé.\n",
    "la couverture en terme de capteurs est rarement totale sur le réseau et les mesures peuvent comporter des erreurs ou être indisponibles dans le cas de panne de capteur. Le recueil des données brutes fournit par conséquent empreinte\n",
    "d’erreurs. C’est la raison pour laquelle des méthodes de qualiﬁcation (=identiﬁcation) des données aberrantes et de reconstitution des données manquantes sont développées, ces méthodes donnent comme résultat les tests suivants:\n",
    "- Le test de sur-comptage est effectué en comparant chaque débit mesuré à un seuil de débit : à priori 6000 véh./heure.\n",
    "\n",
    "- Le test de sur-vitesse, est effectué en comparant chaque vitesse mesurée à une vitesse limite : à priori 160 km/h.\n",
    "\n",
    "- Le test du taux d'occupation (To), est effectuée en identifiant les valeurs nulles ou supérieures à la 100%.\n",
    "\n",
    "**Valeurs nulles:**\n",
    "\n",
    "Lorsque le débit ou la vitesse est nul ou encore le To la voie est vide. Donc une heure sans donnée, revient à dire que la voie est vide cette heure ci.\n",
    "\n",
    "**Utilisation de graphiques pour identifier des valeurs aberrantes :**\n",
    " \n",
    "Nous pouvons aussi trouver les derniers résultats des sur-comptage et sur-vitesse en identifiant les valeurs aberrantes par des graphes :\n",
    "Sur les nuages de points, les points très éloignés des autres sont de possibles valeurs aberrantes. \n",
    "En effectuant la commande suivant, on obtient un graphe de nuage :"
   ]
  },
  {
   "cell_type": "code",
   "execution_count": 5,
   "metadata": {},
   "outputs": [
    {
     "data": {
      "image/png": "[encoded data removed]",
      "text/plain": [
       "<Figure size 432x288 with 1 Axes>"
      ]
     },
     "metadata": {
      "needs_background": "light"
     },
     "output_type": "display_data"
    }
   ],
   "source": [
    "import matplotlib.pyplot as plt\n",
    "plt.scatter(df3.Q, df3.Vitesse, s =.5)\n",
    "plt.title('Courbe Débit/vitesse pour l’autoroute A7')\n",
    "plt.xlabel('Débit véh/hr')\n",
    "plt.ylabel('Vitesse km/hr')\n",
    "plt.show()"
   ]
  },
  {
   "cell_type": "markdown",
   "metadata": {},
   "source": [
    "Ce nuage de points met en évidence des valeurs aberrantes, les points très éloignés des autres sont supérieur \n",
    " que 6000 pour le débit et 150 pour la vitesse. Ce qui confirme le résultat dernier.\n",
    " \n",
    "En général, les valeurs aberrantes sont plus faciles à repérer sur une boîte à moustaches. Elles sont des valeurs de données très éloignées des autres valeurs de données, et peuvent avoir une incidence importante sur vos résultats.\n"
   ]
  },
  {
   "cell_type": "code",
   "execution_count": 7,
   "metadata": {},
   "outputs": [
    {
     "data": {
      "text/plain": [
       "<matplotlib.axes._subplots.AxesSubplot at 0x1a49562be0>"
      ]
     },
     "execution_count": 7,
     "metadata": {},
     "output_type": "execute_result"
    },
    {
     "data": {
      "image/png": "[encoded data removed]",
      "text/plain": [
       "<Figure size 432x288 with 1 Axes>"
      ]
     },
     "metadata": {
      "needs_background": "light"
     },
     "output_type": "display_data"
    }
   ],
   "source": [
    "sns.boxplot(x= 'js' , y='Q', data = df3, palette = 'husl')"
   ]
  },
  {
   "cell_type": "markdown",
   "metadata": {},
   "source": [
    " Pour la suite nous allons traiter les données aberrantes de chaques stations, et pour cela on commence par les identifier."
   ]
  },
  {
   "cell_type": "markdown",
   "metadata": {},
   "source": [
    "**Débit et Vitesse incompatibles :**\n",
    "\n",
    "Le test débit / Vitesse incompatibles est effectué en recensant les cas où :\n",
    "- Q > 0 et V = 0, ou bien\n",
    "- Q = 0 et V > 0.\n",
    "\n",
    "**Débit et TO incompatibles :**\n",
    "\n",
    "Le test débit TO incompatibles est effectué en recensant les cas où :\n",
    "- Q > seuil_min et TO = 0%.\n",
    "Avec seuil_min = 35 véh./6minutes/voie = 350 véh./heure/voie."
   ]
  },
  {
   "cell_type": "markdown",
   "metadata": {},
   "source": [
    "Pour la suite nous allons traiter les données aberrantes de chaques stations, et pour cela on commence par les identifier."
   ]
  },
  {
   "cell_type": "code",
   "execution_count": 26,
   "metadata": {},
   "outputs": [],
   "source": [
    "#Identifier les donnees de chaque stations\n",
    "grouped = df3.groupby('Code')\n",
    "#for name,group in grouped:\n",
    "   #print (name)\n",
    "   #print (group)"
   ]
  },
  {
   "cell_type": "code",
   "execution_count": 27,
   "metadata": {},
   "outputs": [],
   "source": [
    "#La fonction utilisée pour calculer les pourcentages des donnees aberrantes \n",
    "def PRC(b):\n",
    "    l = len(M7i) - len(b)\n",
    "    return (l*100)/ len(M7i)"
   ]
  },
  {
   "cell_type": "markdown",
   "metadata": {},
   "source": [
    "### Point de mesures : 813#M8m"
   ]
  },
  {
   "cell_type": "code",
   "execution_count": 28,
   "metadata": {},
   "outputs": [
    {
     "data": {
      "text/html": [
       "<div>\n",
       "<style scoped>\n",
       "    .dataframe tbody tr th:only-of-type {\n",
       "        vertical-align: middle;\n",
       "    }\n",
       "\n",
       "    .dataframe tbody tr th {\n",
       "        vertical-align: top;\n",
       "    }\n",
       "\n",
       "    .dataframe thead th {\n",
       "        text-align: right;\n",
       "    }\n",
       "</style>\n",
       "<table border=\"1\" class=\"dataframe\">\n",
       "  <thead>\n",
       "    <tr style=\"text-align: right;\">\n",
       "      <th></th>\n",
       "      <th>rgs</th>\n",
       "      <th>pr</th>\n",
       "      <th>m</th>\n",
       "      <th>js</th>\n",
       "      <th>jjmmaa</th>\n",
       "      <th>hhmm</th>\n",
       "      <th>Vitesse</th>\n",
       "      <th>To</th>\n",
       "      <th>Qualite</th>\n",
       "      <th>Q</th>\n",
       "      <th>A</th>\n",
       "      <th>Code</th>\n",
       "    </tr>\n",
       "  </thead>\n",
       "  <tbody>\n",
       "    <tr>\n",
       "      <th>94491</th>\n",
       "      <td>813#M8m</td>\n",
       "      <td>278</td>\n",
       "      <td>360</td>\n",
       "      <td>Ve</td>\n",
       "      <td>01/01/2016</td>\n",
       "      <td>00:00</td>\n",
       "      <td>0.0</td>\n",
       "      <td>0.0</td>\n",
       "      <td></td>\n",
       "      <td>0.0</td>\n",
       "      <td>813</td>\n",
       "      <td>M8m</td>\n",
       "    </tr>\n",
       "    <tr>\n",
       "      <th>94528</th>\n",
       "      <td>813#M8m</td>\n",
       "      <td>278</td>\n",
       "      <td>360</td>\n",
       "      <td>Ve</td>\n",
       "      <td>01/01/2016</td>\n",
       "      <td>01:00</td>\n",
       "      <td>0.0</td>\n",
       "      <td>0.0</td>\n",
       "      <td></td>\n",
       "      <td>0.0</td>\n",
       "      <td>813</td>\n",
       "      <td>M8m</td>\n",
       "    </tr>\n",
       "    <tr>\n",
       "      <th>94565</th>\n",
       "      <td>813#M8m</td>\n",
       "      <td>278</td>\n",
       "      <td>360</td>\n",
       "      <td>Ve</td>\n",
       "      <td>01/01/2016</td>\n",
       "      <td>02:00</td>\n",
       "      <td>0.0</td>\n",
       "      <td>0.0</td>\n",
       "      <td></td>\n",
       "      <td>0.0</td>\n",
       "      <td>813</td>\n",
       "      <td>M8m</td>\n",
       "    </tr>\n",
       "    <tr>\n",
       "      <th>94602</th>\n",
       "      <td>813#M8m</td>\n",
       "      <td>278</td>\n",
       "      <td>360</td>\n",
       "      <td>Ve</td>\n",
       "      <td>01/01/2016</td>\n",
       "      <td>03:00</td>\n",
       "      <td>0.0</td>\n",
       "      <td>0.0</td>\n",
       "      <td></td>\n",
       "      <td>0.0</td>\n",
       "      <td>813</td>\n",
       "      <td>M8m</td>\n",
       "    </tr>\n",
       "    <tr>\n",
       "      <th>94639</th>\n",
       "      <td>813#M8m</td>\n",
       "      <td>278</td>\n",
       "      <td>360</td>\n",
       "      <td>Ve</td>\n",
       "      <td>01/01/2016</td>\n",
       "      <td>04:00</td>\n",
       "      <td>0.0</td>\n",
       "      <td>0.0</td>\n",
       "      <td></td>\n",
       "      <td>0.0</td>\n",
       "      <td>813</td>\n",
       "      <td>M8m</td>\n",
       "    </tr>\n",
       "  </tbody>\n",
       "</table>\n",
       "</div>"
      ],
      "text/plain": [
       "           rgs   pr    m  js      jjmmaa   hhmm  Vitesse   To Qualite    Q  \\\n",
       "94491  813#M8m  278  360  Ve  01/01/2016  00:00      0.0  0.0          0.0   \n",
       "94528  813#M8m  278  360  Ve  01/01/2016  01:00      0.0  0.0          0.0   \n",
       "94565  813#M8m  278  360  Ve  01/01/2016  02:00      0.0  0.0          0.0   \n",
       "94602  813#M8m  278  360  Ve  01/01/2016  03:00      0.0  0.0          0.0   \n",
       "94639  813#M8m  278  360  Ve  01/01/2016  04:00      0.0  0.0          0.0   \n",
       "\n",
       "         A Code  \n",
       "94491  813  M8m  \n",
       "94528  813  M8m  \n",
       "94565  813  M8m  \n",
       "94602  813  M8m  \n",
       "94639  813  M8m  "
      ]
     },
     "execution_count": 28,
     "metadata": {},
     "output_type": "execute_result"
    }
   ],
   "source": [
    "#Table de donnees de la station M8m\n",
    "M8m = grouped.get_group('M8m')\n",
    "M8m.head()"
   ]
  },
  {
   "cell_type": "markdown",
   "metadata": {},
   "source": [
    "**Donc la station M8m ne contient que des valeurs nulles dans les champs: Vitesse, Q, To.**\n",
    "    \n",
    "### Point de mesures : 709#M7i\n",
    "**Valeurs extrêmes et nulles :**\n",
    "\n",
    "Pour commencer nous allons tout d’abord identifier les données de chaque station, puis récupérer et compter les données qui vérifient :  \n",
    "\n",
    "•\tDébit horaire <= 6000 véh/hr.\n",
    "\n",
    "•\tVitesse horaire <= 160 km/hr.\n",
    "\n",
    "•\tTo <= 100%."
   ]
  },
  {
   "cell_type": "code",
   "execution_count": 11,
   "metadata": {},
   "outputs": [
    {
     "data": {
      "text/html": [
       "<div>\n",
       "<style scoped>\n",
       "    .dataframe tbody tr th:only-of-type {\n",
       "        vertical-align: middle;\n",
       "    }\n",
       "\n",
       "    .dataframe tbody tr th {\n",
       "        vertical-align: top;\n",
       "    }\n",
       "\n",
       "    .dataframe thead th {\n",
       "        text-align: right;\n",
       "    }\n",
       "</style>\n",
       "<table border=\"1\" class=\"dataframe\">\n",
       "  <thead>\n",
       "    <tr style=\"text-align: right;\">\n",
       "      <th></th>\n",
       "      <th>pr</th>\n",
       "      <th>m</th>\n",
       "      <th>Vitesse</th>\n",
       "      <th>To</th>\n",
       "      <th>Q</th>\n",
       "    </tr>\n",
       "  </thead>\n",
       "  <tbody>\n",
       "    <tr>\n",
       "      <th>count</th>\n",
       "      <td>4499.0</td>\n",
       "      <td>4499.0</td>\n",
       "      <td>4499.000000</td>\n",
       "      <td>4499.000000</td>\n",
       "      <td>4499.000000</td>\n",
       "    </tr>\n",
       "    <tr>\n",
       "      <th>mean</th>\n",
       "      <td>264.0</td>\n",
       "      <td>687.0</td>\n",
       "      <td>83.530562</td>\n",
       "      <td>12.369638</td>\n",
       "      <td>1943.087575</td>\n",
       "    </tr>\n",
       "    <tr>\n",
       "      <th>std</th>\n",
       "      <td>0.0</td>\n",
       "      <td>0.0</td>\n",
       "      <td>21.857091</td>\n",
       "      <td>12.463145</td>\n",
       "      <td>1458.774696</td>\n",
       "    </tr>\n",
       "    <tr>\n",
       "      <th>min</th>\n",
       "      <td>264.0</td>\n",
       "      <td>687.0</td>\n",
       "      <td>0.000000</td>\n",
       "      <td>0.000000</td>\n",
       "      <td>0.000000</td>\n",
       "    </tr>\n",
       "    <tr>\n",
       "      <th>25%</th>\n",
       "      <td>264.0</td>\n",
       "      <td>687.0</td>\n",
       "      <td>82.000000</td>\n",
       "      <td>2.000000</td>\n",
       "      <td>570.500000</td>\n",
       "    </tr>\n",
       "    <tr>\n",
       "      <th>50%</th>\n",
       "      <td>264.0</td>\n",
       "      <td>687.0</td>\n",
       "      <td>91.000000</td>\n",
       "      <td>8.000000</td>\n",
       "      <td>1714.000000</td>\n",
       "    </tr>\n",
       "    <tr>\n",
       "      <th>75%</th>\n",
       "      <td>264.0</td>\n",
       "      <td>687.0</td>\n",
       "      <td>96.000000</td>\n",
       "      <td>19.000000</td>\n",
       "      <td>3198.500000</td>\n",
       "    </tr>\n",
       "    <tr>\n",
       "      <th>max</th>\n",
       "      <td>264.0</td>\n",
       "      <td>687.0</td>\n",
       "      <td>106.000000</td>\n",
       "      <td>135.000000</td>\n",
       "      <td>16597.000000</td>\n",
       "    </tr>\n",
       "  </tbody>\n",
       "</table>\n",
       "</div>"
      ],
      "text/plain": [
       "           pr       m      Vitesse           To             Q\n",
       "count  4499.0  4499.0  4499.000000  4499.000000   4499.000000\n",
       "mean    264.0   687.0    83.530562    12.369638   1943.087575\n",
       "std       0.0     0.0    21.857091    12.463145   1458.774696\n",
       "min     264.0   687.0     0.000000     0.000000      0.000000\n",
       "25%     264.0   687.0    82.000000     2.000000    570.500000\n",
       "50%     264.0   687.0    91.000000     8.000000   1714.000000\n",
       "75%     264.0   687.0    96.000000    19.000000   3198.500000\n",
       "max     264.0   687.0   106.000000   135.000000  16597.000000"
      ]
     },
     "execution_count": 11,
     "metadata": {},
     "output_type": "execute_result"
    }
   ],
   "source": [
    "#Table de donnees de la station M8m\n",
    "M7i = grouped.get_group('M7i')\n",
    "#transformer la table en dataframe\n",
    "M7i = pd.DataFrame(M7i)\n",
    "M7i.describe()"
   ]
  },
  {
   "cell_type": "code",
   "execution_count": 74,
   "metadata": {},
   "outputs": [
    {
     "data": {
      "text/plain": [
       "<matplotlib.axes._subplots.AxesSubplot at 0x1a4a912048>"
      ]
     },
     "execution_count": 74,
     "metadata": {},
     "output_type": "execute_result"
    },
    {
     "data": {
      "image/png": "[encoded data removed]",
      "text/plain": [
       "<Figure size 432x288 with 1 Axes>"
      ]
     },
     "metadata": {
      "needs_background": "light"
     },
     "output_type": "display_data"
    }
   ],
   "source": [
    "sns.boxplot(x= 'js' , y='Q', data = M7i, palette = 'husl')"
   ]
  },
  {
   "cell_type": "code",
   "execution_count": 12,
   "metadata": {},
   "outputs": [
    {
     "data": {
      "text/plain": [
       "0.24449877750611246"
      ]
     },
     "execution_count": 12,
     "metadata": {},
     "output_type": "execute_result"
    }
   ],
   "source": [
    "### Débit horaire\n",
    "maselection = (M7i['Q'] <= 6000) \n",
    "q = M7i[maselection]\n",
    "PRC(q)"
   ]
  },
  {
   "cell_type": "code",
   "execution_count": 13,
   "metadata": {},
   "outputs": [
    {
     "data": {
      "text/plain": [
       "0.0"
      ]
     },
     "execution_count": 13,
     "metadata": {},
     "output_type": "execute_result"
    }
   ],
   "source": [
    "### Vitesse horaire\n",
    "mselection = (M7i['Vitesse'] <= 160)\n",
    "v = M7i[mselection]\n",
    "PRC(v)"
   ]
  },
  {
   "cell_type": "code",
   "execution_count": 14,
   "metadata": {},
   "outputs": [
    {
     "data": {
      "text/plain": [
       "0.04445432318292954"
      ]
     },
     "execution_count": 14,
     "metadata": {},
     "output_type": "execute_result"
    }
   ],
   "source": [
    "### To horaire\n",
    "maselection = (M7i['To'] <= 100)\n",
    "t = M7i[maselection]\n",
    "PRC(t)"
   ]
  },
  {
   "cell_type": "markdown",
   "metadata": {},
   "source": [
    "##### Résultat :\n",
    "la part des valeurs aberrantes sont les suivantes:\n",
    "\n",
    "Débit horaire: **0,24%** ; Vitesse horaire: **0%** ; To horaire: **0,04%**"
   ]
  },
  {
   "cell_type": "markdown",
   "metadata": {},
   "source": [
    " **Remarque :**\n",
    "Lorsque le débit ou la vitesse est nul ou encore le To la voie est vide. Donc une heure sans donnée, revient à dire que la voie est vide cette heure ci."
   ]
  },
  {
   "cell_type": "code",
   "execution_count": 15,
   "metadata": {},
   "outputs": [
    {
     "data": {
      "text/plain": [
       "16.159146476994888"
      ]
     },
     "execution_count": 15,
     "metadata": {},
     "output_type": "execute_result"
    }
   ],
   "source": [
    "### Débit et TO incompatibles\n",
    "selection = (M7i['To'] > 0) & (M7i['Q'] > 350)\n",
    "qq = M7i[selection]\n",
    "PRC(qq)"
   ]
  },
  {
   "cell_type": "code",
   "execution_count": 16,
   "metadata": {},
   "outputs": [
    {
     "data": {
      "text/plain": [
       "4.578795287841743"
      ]
     },
     "execution_count": 16,
     "metadata": {},
     "output_type": "execute_result"
    }
   ],
   "source": [
    "### Vitesse horaire\n",
    "selection = (M7i['Vitesse'] > 20)\n",
    "vv = M7i[selection]\n",
    "PRC(vv)"
   ]
  },
  {
   "cell_type": "code",
   "execution_count": 17,
   "metadata": {},
   "outputs": [
    {
     "data": {
      "text/plain": [
       "6.579239831073572"
      ]
     },
     "execution_count": 17,
     "metadata": {},
     "output_type": "execute_result"
    }
   ],
   "source": [
    "### To horaire\n",
    "selection = (M7i['To'] > 0)\n",
    "tt = M7i[selection]\n",
    "PRC(tt)"
   ]
  },
  {
   "cell_type": "markdown",
   "metadata": {},
   "source": [
    "##### Résultat :\n",
    "La part des valeurs aberrantes sont les suivantes:\n",
    "\n",
    "Débit horaire: **16,15%** ; Vitesse horaire: **4,57%** ; To horaire: **6,58%**."
   ]
  },
  {
   "cell_type": "code",
   "execution_count": 18,
   "metadata": {},
   "outputs": [],
   "source": [
    "# Transformer les donnees a des dataframe\n",
    "lst = [q,v,t,qq,vv,tt]\n",
    "for i in lst :\n",
    "    i = pd.DataFrame(i)"
   ]
  },
  {
   "cell_type": "code",
   "execution_count": 19,
   "metadata": {},
   "outputs": [],
   "source": [
    "# Eliminer les valeurs aberrantes\n",
    "inter1 = pd.merge(q, v, how='inner')\n",
    "inter2 = pd.merge(t, qq, how='inner')\n",
    "inter3 = pd.merge(vv, tt, how='inner')\n",
    "inter4 = pd.merge(inter1, inter2, how='inner')\n",
    "tab_M7i = pd.merge(inter3, inter4, how='inner')\n",
    "#selection = (df11['To'] != 0) & (df11['Vitesse'] != 0) & (df11['Q'] != 0)\n"
   ]
  },
  {
   "cell_type": "code",
   "execution_count": 20,
   "metadata": {},
   "outputs": [
    {
     "data": {
      "text/html": [
       "<div>\n",
       "<style scoped>\n",
       "    .dataframe tbody tr th:only-of-type {\n",
       "        vertical-align: middle;\n",
       "    }\n",
       "\n",
       "    .dataframe tbody tr th {\n",
       "        vertical-align: top;\n",
       "    }\n",
       "\n",
       "    .dataframe thead th {\n",
       "        text-align: right;\n",
       "    }\n",
       "</style>\n",
       "<table border=\"1\" class=\"dataframe\">\n",
       "  <thead>\n",
       "    <tr style=\"text-align: right;\">\n",
       "      <th></th>\n",
       "      <th>pr</th>\n",
       "      <th>m</th>\n",
       "      <th>Vitesse</th>\n",
       "      <th>To</th>\n",
       "      <th>Q</th>\n",
       "    </tr>\n",
       "  </thead>\n",
       "  <tbody>\n",
       "    <tr>\n",
       "      <th>count</th>\n",
       "      <td>3760.0</td>\n",
       "      <td>3760.0</td>\n",
       "      <td>3760.000000</td>\n",
       "      <td>3760.000000</td>\n",
       "      <td>3760.000000</td>\n",
       "    </tr>\n",
       "    <tr>\n",
       "      <th>mean</th>\n",
       "      <td>264.0</td>\n",
       "      <td>687.0</td>\n",
       "      <td>86.165426</td>\n",
       "      <td>14.489894</td>\n",
       "      <td>2263.342287</td>\n",
       "    </tr>\n",
       "    <tr>\n",
       "      <th>std</th>\n",
       "      <td>0.0</td>\n",
       "      <td>0.0</td>\n",
       "      <td>12.255582</td>\n",
       "      <td>11.995716</td>\n",
       "      <td>1279.316437</td>\n",
       "    </tr>\n",
       "    <tr>\n",
       "      <th>min</th>\n",
       "      <td>264.0</td>\n",
       "      <td>687.0</td>\n",
       "      <td>28.000000</td>\n",
       "      <td>1.000000</td>\n",
       "      <td>351.000000</td>\n",
       "    </tr>\n",
       "    <tr>\n",
       "      <th>25%</th>\n",
       "      <td>264.0</td>\n",
       "      <td>687.0</td>\n",
       "      <td>83.000000</td>\n",
       "      <td>4.000000</td>\n",
       "      <td>1005.750000</td>\n",
       "    </tr>\n",
       "    <tr>\n",
       "      <th>50%</th>\n",
       "      <td>264.0</td>\n",
       "      <td>687.0</td>\n",
       "      <td>90.000000</td>\n",
       "      <td>12.000000</td>\n",
       "      <td>2349.500000</td>\n",
       "    </tr>\n",
       "    <tr>\n",
       "      <th>75%</th>\n",
       "      <td>264.0</td>\n",
       "      <td>687.0</td>\n",
       "      <td>95.000000</td>\n",
       "      <td>20.000000</td>\n",
       "      <td>3315.500000</td>\n",
       "    </tr>\n",
       "    <tr>\n",
       "      <th>max</th>\n",
       "      <td>264.0</td>\n",
       "      <td>687.0</td>\n",
       "      <td>105.000000</td>\n",
       "      <td>63.000000</td>\n",
       "      <td>5981.000000</td>\n",
       "    </tr>\n",
       "  </tbody>\n",
       "</table>\n",
       "</div>"
      ],
      "text/plain": [
       "           pr       m      Vitesse           To            Q\n",
       "count  3760.0  3760.0  3760.000000  3760.000000  3760.000000\n",
       "mean    264.0   687.0    86.165426    14.489894  2263.342287\n",
       "std       0.0     0.0    12.255582    11.995716  1279.316437\n",
       "min     264.0   687.0    28.000000     1.000000   351.000000\n",
       "25%     264.0   687.0    83.000000     4.000000  1005.750000\n",
       "50%     264.0   687.0    90.000000    12.000000  2349.500000\n",
       "75%     264.0   687.0    95.000000    20.000000  3315.500000\n",
       "max     264.0   687.0   105.000000    63.000000  5981.000000"
      ]
     },
     "execution_count": 20,
     "metadata": {},
     "output_type": "execute_result"
    }
   ],
   "source": [
    "# La table M7i après les reconstitutions\n",
    "tab_M7i.describe()"
   ]
  },
  {
   "cell_type": "code",
   "execution_count": 21,
   "metadata": {},
   "outputs": [
    {
     "data": {
      "text/plain": [
       "<matplotlib.axes._subplots.AxesSubplot at 0x1a48a23978>"
      ]
     },
     "execution_count": 21,
     "metadata": {},
     "output_type": "execute_result"
    },
    {
     "data": {
      "image/png": "[encoded data removed]",
      "text/plain": [
       "<Figure size 432x288 with 1 Axes>"
      ]
     },
     "metadata": {
      "needs_background": "light"
     },
     "output_type": "display_data"
    }
   ],
   "source": [
    "sns.boxplot(x= 'js' , y='Q', data = tab_M7i, palette = 'husl')"
   ]
  },
  {
   "cell_type": "code",
   "execution_count": 29,
   "metadata": {},
   "outputs": [],
   "source": [
    "#Identifier les donnees par jour\n",
    "groupe = tab_M7i.groupby('js')\n",
    "#for name,group in groupe:\n",
    "   #print (name)\n",
    "   #print (group)"
   ]
  },
  {
   "cell_type": "code",
   "execution_count": 30,
   "metadata": {},
   "outputs": [
    {
     "data": {
      "text/html": [
       "<div>\n",
       "<style scoped>\n",
       "    .dataframe tbody tr th:only-of-type {\n",
       "        vertical-align: middle;\n",
       "    }\n",
       "\n",
       "    .dataframe tbody tr th {\n",
       "        vertical-align: top;\n",
       "    }\n",
       "\n",
       "    .dataframe thead th {\n",
       "        text-align: right;\n",
       "    }\n",
       "</style>\n",
       "<table border=\"1\" class=\"dataframe\">\n",
       "  <thead>\n",
       "    <tr style=\"text-align: right;\">\n",
       "      <th></th>\n",
       "      <th>rgs</th>\n",
       "      <th>pr</th>\n",
       "      <th>m</th>\n",
       "      <th>js</th>\n",
       "      <th>jjmmaa</th>\n",
       "      <th>hhmm</th>\n",
       "      <th>Vitesse</th>\n",
       "      <th>To</th>\n",
       "      <th>Qualite</th>\n",
       "      <th>Q</th>\n",
       "      <th>A</th>\n",
       "      <th>Code</th>\n",
       "    </tr>\n",
       "  </thead>\n",
       "  <tbody>\n",
       "    <tr>\n",
       "      <th>85</th>\n",
       "      <td>709#M7i</td>\n",
       "      <td>264</td>\n",
       "      <td>687</td>\n",
       "      <td>Ma</td>\n",
       "      <td>05/01/2016</td>\n",
       "      <td>00:00</td>\n",
       "      <td>93.0</td>\n",
       "      <td>2.0</td>\n",
       "      <td></td>\n",
       "      <td>410.0</td>\n",
       "      <td>709</td>\n",
       "      <td>M7i</td>\n",
       "    </tr>\n",
       "    <tr>\n",
       "      <th>86</th>\n",
       "      <td>709#M7i</td>\n",
       "      <td>264</td>\n",
       "      <td>687</td>\n",
       "      <td>Ma</td>\n",
       "      <td>05/01/2016</td>\n",
       "      <td>05:00</td>\n",
       "      <td>95.0</td>\n",
       "      <td>2.0</td>\n",
       "      <td></td>\n",
       "      <td>500.0</td>\n",
       "      <td>709</td>\n",
       "      <td>M7i</td>\n",
       "    </tr>\n",
       "    <tr>\n",
       "      <th>87</th>\n",
       "      <td>709#M7i</td>\n",
       "      <td>264</td>\n",
       "      <td>687</td>\n",
       "      <td>Ma</td>\n",
       "      <td>05/01/2016</td>\n",
       "      <td>06:00</td>\n",
       "      <td>91.0</td>\n",
       "      <td>7.0</td>\n",
       "      <td></td>\n",
       "      <td>1263.0</td>\n",
       "      <td>709</td>\n",
       "      <td>M7i</td>\n",
       "    </tr>\n",
       "    <tr>\n",
       "      <th>88</th>\n",
       "      <td>709#M7i</td>\n",
       "      <td>264</td>\n",
       "      <td>687</td>\n",
       "      <td>Ma</td>\n",
       "      <td>05/01/2016</td>\n",
       "      <td>07:00</td>\n",
       "      <td>81.0</td>\n",
       "      <td>16.0</td>\n",
       "      <td></td>\n",
       "      <td>2661.0</td>\n",
       "      <td>709</td>\n",
       "      <td>M7i</td>\n",
       "    </tr>\n",
       "    <tr>\n",
       "      <th>89</th>\n",
       "      <td>709#M7i</td>\n",
       "      <td>264</td>\n",
       "      <td>687</td>\n",
       "      <td>Ma</td>\n",
       "      <td>05/01/2016</td>\n",
       "      <td>08:00</td>\n",
       "      <td>54.0</td>\n",
       "      <td>46.0</td>\n",
       "      <td></td>\n",
       "      <td>3890.0</td>\n",
       "      <td>709</td>\n",
       "      <td>M7i</td>\n",
       "    </tr>\n",
       "  </tbody>\n",
       "</table>\n",
       "</div>"
      ],
      "text/plain": [
       "        rgs   pr    m  js      jjmmaa   hhmm  Vitesse    To Qualite       Q  \\\n",
       "85  709#M7i  264  687  Ma  05/01/2016  00:00     93.0   2.0           410.0   \n",
       "86  709#M7i  264  687  Ma  05/01/2016  05:00     95.0   2.0           500.0   \n",
       "87  709#M7i  264  687  Ma  05/01/2016  06:00     91.0   7.0          1263.0   \n",
       "88  709#M7i  264  687  Ma  05/01/2016  07:00     81.0  16.0          2661.0   \n",
       "89  709#M7i  264  687  Ma  05/01/2016  08:00     54.0  46.0          3890.0   \n",
       "\n",
       "      A Code  \n",
       "85  709  M7i  \n",
       "86  709  M7i  \n",
       "87  709  M7i  \n",
       "88  709  M7i  \n",
       "89  709  M7i  "
      ]
     },
     "execution_count": 30,
     "metadata": {},
     "output_type": "execute_result"
    }
   ],
   "source": [
    "#Table de donnees de Mardi\n",
    "Ma_M7i = groupe.get_group('Ma')\n",
    "Ma_M7i.head()"
   ]
  },
  {
   "cell_type": "code",
   "execution_count": 24,
   "metadata": {},
   "outputs": [
    {
     "data": {
      "image/png": "[encoded data removed]",
      "text/plain": [
       "<Figure size 1008x504 with 1 Axes>"
      ]
     },
     "metadata": {
      "needs_background": "light"
     },
     "output_type": "display_data"
    }
   ],
   "source": [
    "plt.subplots(figsize=(14,7))\n",
    "plt.bar(Ma_M7i['hhmm'],Ma_M7i['To'], width = .5)\n",
    "plt.ylabel(\"Taux d'occupation\", fontsize = 15) \n",
    "plt.xlabel('Heures', fontsize = 15) \n",
    "plt.title(\"Répartition horaire des niveaux de service sur un Mardi type\", fontsize = 20) \n",
    "plt.show()"
   ]
  },
  {
   "cell_type": "code",
   "execution_count": 25,
   "metadata": {},
   "outputs": [
    {
     "data": {
      "image/png": "[encoded data removed]",
      "text/plain": [
       "<Figure size 1008x504 with 1 Axes>"
      ]
     },
     "metadata": {
      "needs_background": "light"
     },
     "output_type": "display_data"
    }
   ],
   "source": [
    "je_M7i = groupe.get_group('Je')\n",
    "plt.subplots(figsize=(14,7))\n",
    "plt.bar(je_M7i['hhmm'],je_M7i['To'], width = .5)\n",
    "plt.ylabel(\"Taux d'occupation\", fontsize = 15) \n",
    "plt.xlabel('Heures', fontsize = 15) \n",
    "plt.title(\"Répartition horaire des niveaux de service sur un Jeudi type\", fontsize = 20) \n",
    "plt.show()"
   ]
  },
  {
   "cell_type": "code",
   "execution_count": null,
   "metadata": {},
   "outputs": [],
   "source": []
  }
 ],
 "metadata": {
  "kernelspec": {
   "display_name": "Python 3",
   "language": "python",
   "name": "python3"
  },
  "language_info": {
   "codemirror_mode": {
    "name": "ipython",
    "version": 3
   },
   "file_extension": ".py",
   "mimetype": "text/x-python",
   "name": "python",
   "nbconvert_exporter": "python",
   "pygments_lexer": "ipython3",
   "version": "3.7.1"
  }
 },
 "nbformat": 4,
 "nbformat_minor": 2
}
